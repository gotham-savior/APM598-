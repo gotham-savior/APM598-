{
  "nbformat": 4,
  "nbformat_minor": 0,
  "metadata": {
    "colab": {
      "name": "Sentiment Analysis with GRUs",
      "provenance": []
    },
    "kernelspec": {
      "display_name": "Python 3",
      "language": "python",
      "name": "python3"
    },
    "accelerator": "GPU"
  },
  "cells": [
    {
      "metadata": {
        "id": "dD2oFWcPDlS7"
      },
      "cell_type": "code",
      "source": [
        "# Based on\n",
        "# https://github.com/fchollet/deep-learning-with-python-notebooks/blob/master/6.2-understanding-recurrent-neural-networks.ipynb"
      ],
      "execution_count": null,
      "outputs": []
    },
    {
      "metadata": {
        "id": "5J89_UNNDlTA",
        "colab": {
          "base_uri": "https://localhost:8080/"
        },
        "outputId": "25205e71-f9b6-4ed0-a600-308ee2190cf4"
      },
      "cell_type": "code",
      "source": [
        "import warnings\n",
        "warnings.filterwarnings('ignore')\n",
        "%matplotlib inline\n",
        "%pylab inline\n",
        "import matplotlib.pyplot as plt\n",
        "import pandas as pd\n",
        "import tensorflow as tf\n",
        "from tensorflow import keras"
      ],
      "execution_count": 1,
      "outputs": [
        {
          "output_type": "stream",
          "name": "stdout",
          "text": [
            "Populating the interactive namespace from numpy and matplotlib\n"
          ]
        }
      ]
    },
    {
      "metadata": {
        "id": "CaEsC1yJDlTO",
        "colab": {
          "base_uri": "https://localhost:8080/"
        },
        "outputId": "35aff3a7-2c5e-42f3-86ab-19ae0ac94f67"
      },
      "cell_type": "code",
      "source": [
        "# https://keras.io/datasets/#imdb-movie-reviews-sentiment-classification\n",
        "max_features = 10000  # number of words to consider as features\n",
        "maxlen = 500  # cut texts after this number of words (among top max_features most common words)\n",
        "\n",
        "# each review is encoded as a sequence of word indexes\n",
        "# indexed by overall frequency in the dataset\n",
        "# output is 0 (negative) or 1 (positive) \n",
        "imdb = tf.keras.datasets.imdb.load_data(num_words=max_features)\n",
        "(raw_input_train, y_train), (raw_input_test, y_test) = imdb\n",
        "\n",
        "# https://www.tensorflow.org/api_docs/python/tf/keras/preprocessing/sequence/pad_sequences\n",
        "\n",
        "input_train = tf.keras.preprocessing.sequence.pad_sequences(raw_input_train, maxlen=maxlen)\n",
        "input_test = tf.keras.preprocessing.sequence.pad_sequences(raw_input_test, maxlen=maxlen)"
      ],
      "execution_count": 2,
      "outputs": [
        {
          "output_type": "stream",
          "name": "stdout",
          "text": [
            "Downloading data from https://storage.googleapis.com/tensorflow/tf-keras-datasets/imdb.npz\n",
            "17464789/17464789 [==============================] - 2s 0us/step\n"
          ]
        }
      ]
    },
    {
      "metadata": {
        "id": "77aA5qukDlTa"
      },
      "cell_type": "markdown",
      "source": [
        "## GRU RNNs"
      ]
    },
    {
      "metadata": {
        "id": "3P5IXssDDlTa",
        "outputId": "b83620ca-6788-4506-9abf-8e03c5a40d20",
        "colab": {
          "base_uri": "https://localhost:8080/"
        }
      },
      "cell_type": "code",
      "source": [
        "from tensorflow.keras.layers import GRU, Embedding, Bidirectional\n",
        "\n",
        "embedding_dim = 32\n",
        "\n",
        "model = keras.Sequential()\n",
        "\n",
        "# encoder\n",
        "model.add(Embedding(input_dim=max_features, output_dim=embedding_dim, input_length=maxlen))\n",
        "model.add(GRU(units=32))\n",
        "\n",
        "# latent space\n",
        "model.add(tf.keras.layers.Dense(name='fc', units=32, activation='relu'))\n",
        "\n",
        "# binary classifier as decoder\n",
        "model.add(tf.keras.layers.Dense(name='classifier', units=1, activation='sigmoid'))\n",
        "\n",
        "model.compile(optimizer='adam', loss='binary_crossentropy', metrics=['accuracy'])\n",
        "\n",
        "model.summary()"
      ],
      "execution_count": 3,
      "outputs": [
        {
          "output_type": "stream",
          "name": "stdout",
          "text": [
            "Model: \"sequential\"\n",
            "_________________________________________________________________\n",
            " Layer (type)                Output Shape              Param #   \n",
            "=================================================================\n",
            " embedding (Embedding)       (None, 500, 32)           320000    \n",
            "                                                                 \n",
            " gru (GRU)                   (None, 32)                6336      \n",
            "                                                                 \n",
            " fc (Dense)                  (None, 32)                1056      \n",
            "                                                                 \n",
            " classifier (Dense)          (None, 1)                 33        \n",
            "                                                                 \n",
            "=================================================================\n",
            "Total params: 327,425\n",
            "Trainable params: 327,425\n",
            "Non-trainable params: 0\n",
            "_________________________________________________________________\n"
          ]
        }
      ]
    },
    {
      "metadata": {
        "id": "YnGRCa_NDlTe",
        "outputId": "e803f655-9f68-4ac2-e919-6a1b864da551",
        "colab": {
          "base_uri": "https://localhost:8080/"
        }
      },
      "cell_type": "code",
      "source": [
        "batch_size = 1000\n",
        "\n",
        "%time history = model.fit(input_train, y_train, epochs=10, batch_size=batch_size, validation_split=0.2)"
      ],
      "execution_count": 4,
      "outputs": [
        {
          "output_type": "stream",
          "name": "stdout",
          "text": [
            "Epoch 1/10\n",
            "20/20 [==============================] - 11s 234ms/step - loss: 0.6883 - accuracy: 0.5736 - val_loss: 0.6805 - val_accuracy: 0.6038\n",
            "Epoch 2/10\n",
            "20/20 [==============================] - 5s 233ms/step - loss: 0.6486 - accuracy: 0.6858 - val_loss: 0.6200 - val_accuracy: 0.6708\n",
            "Epoch 3/10\n",
            "20/20 [==============================] - 4s 187ms/step - loss: 0.4960 - accuracy: 0.7801 - val_loss: 0.4364 - val_accuracy: 0.8162\n",
            "Epoch 4/10\n",
            "20/20 [==============================] - 3s 149ms/step - loss: 0.3310 - accuracy: 0.8580 - val_loss: 0.3744 - val_accuracy: 0.8392\n",
            "Epoch 5/10\n",
            "20/20 [==============================] - 3s 132ms/step - loss: 0.2373 - accuracy: 0.9090 - val_loss: 0.3502 - val_accuracy: 0.8510\n",
            "Epoch 6/10\n",
            "20/20 [==============================] - 4s 174ms/step - loss: 0.1774 - accuracy: 0.9392 - val_loss: 0.3411 - val_accuracy: 0.8688\n",
            "Epoch 7/10\n",
            "20/20 [==============================] - 3s 158ms/step - loss: 0.1469 - accuracy: 0.9508 - val_loss: 0.3644 - val_accuracy: 0.8622\n",
            "Epoch 8/10\n",
            "20/20 [==============================] - 2s 102ms/step - loss: 0.1275 - accuracy: 0.9586 - val_loss: 0.3872 - val_accuracy: 0.8656\n",
            "Epoch 9/10\n",
            "20/20 [==============================] - 2s 109ms/step - loss: 0.1100 - accuracy: 0.9657 - val_loss: 0.4279 - val_accuracy: 0.8602\n",
            "Epoch 10/10\n",
            "20/20 [==============================] - 3s 146ms/step - loss: 0.0835 - accuracy: 0.9779 - val_loss: 0.4378 - val_accuracy: 0.8618\n",
            "CPU times: user 27.8 s, sys: 1.15 s, total: 29 s\n",
            "Wall time: 39.5 s\n"
          ]
        }
      ]
    },
    {
      "metadata": {
        "id": "jL_GisrYDlTj",
        "outputId": "e79ad285-6e68-4cd1-9a88-3822fb6bdaae",
        "colab": {
          "base_uri": "https://localhost:8080/"
        }
      },
      "cell_type": "code",
      "source": [
        "train_loss, train_accuracy = model.evaluate(input_train, y_train, batch_size=batch_size)\n",
        "train_accuracy"
      ],
      "execution_count": 5,
      "outputs": [
        {
          "output_type": "stream",
          "name": "stdout",
          "text": [
            "25/25 [==============================] - 0s 16ms/step - loss: 0.1415 - accuracy: 0.9605\n"
          ]
        },
        {
          "output_type": "execute_result",
          "data": {
            "text/plain": [
              "0.9604799747467041"
            ]
          },
          "metadata": {},
          "execution_count": 5
        }
      ]
    },
    {
      "metadata": {
        "id": "WPdu2AZ9DlTo",
        "outputId": "7e83fca7-7bf5-4183-e8bf-9f19a5c24e0f",
        "colab": {
          "base_uri": "https://localhost:8080/"
        }
      },
      "cell_type": "code",
      "source": [
        "test_loss, test_accuracy = model.evaluate(input_test, y_test, batch_size=batch_size)\n",
        "test_accuracy"
      ],
      "execution_count": 6,
      "outputs": [
        {
          "output_type": "stream",
          "name": "stdout",
          "text": [
            "25/25 [==============================] - 0s 17ms/step - loss: 0.4639 - accuracy: 0.8505\n"
          ]
        },
        {
          "output_type": "execute_result",
          "data": {
            "text/plain": [
              "0.8504800200462341"
            ]
          },
          "metadata": {},
          "execution_count": 6
        }
      ]
    },
    {
      "metadata": {
        "id": "G_m1TT0kyN-7",
        "colab": {
          "base_uri": "https://localhost:8080/",
          "height": 461
        },
        "outputId": "d0449e28-57df-4e6b-efb1-907eda95a9c0"
      },
      "cell_type": "code",
      "source": [
        "def plot_history(history, samples=10, init_phase_samples=None):\n",
        "    epochs = history.params['epochs']\n",
        "    \n",
        "    acc = history.history['accuracy']\n",
        "    val_acc = history.history['val_accuracy']\n",
        "\n",
        "    every_sample =  int(epochs / samples)\n",
        "    acc = pd.DataFrame(acc).iloc[::every_sample, :]\n",
        "    val_acc = pd.DataFrame(val_acc).iloc[::every_sample, :]\n",
        "\n",
        "    fig, ax = plt.subplots(figsize=(20,5))\n",
        "\n",
        "    ax.plot(acc, 'bo', label='Training acc')\n",
        "    ax.plot(val_acc, 'b', label='Validation acc')\n",
        "    ax.set_title('Training and validation accuracy')\n",
        "    ax.legend()\n",
        "\n",
        "plot_history(history)"
      ],
      "execution_count": 9,
      "outputs": [
        {
          "output_type": "display_data",
          "data": {
            "text/plain": [
              "<Figure size 2000x500 with 1 Axes>"
            ],
            "image/png": "[encoded data removed]"
          },
          "metadata": {}
        }
      ]
    },
    {
      "metadata": {
        "id": "ncybHXhYDlTr",
        "outputId": "4d3dc526-9322-4a45-aed7-7f009d365a06",
        "colab": {
          "base_uri": "https://localhost:8080/"
        }
      },
      "cell_type": "code",
      "source": [
        "# precition\n",
        "model.predict(input_test[0:5])"
      ],
      "execution_count": 10,
      "outputs": [
        {
          "output_type": "stream",
          "name": "stdout",
          "text": [
            "1/1 [==============================] - 1s 641ms/step\n"
          ]
        },
        {
          "output_type": "execute_result",
          "data": {
            "text/plain": [
              "array([[0.80571085],\n",
              "       [0.9965    ],\n",
              "       [0.9240794 ],\n",
              "       [0.15011756],\n",
              "       [0.99939764]], dtype=float32)"
            ]
          },
          "metadata": {},
          "execution_count": 10
        }
      ]
    },
    {
      "metadata": {
        "id": "odwgxZ1SDlTv",
        "outputId": "5052696d-e797-4ff5-8f4c-2d7ebc887f49",
        "colab": {
          "base_uri": "https://localhost:8080/"
        }
      },
      "cell_type": "code",
      "source": [
        "# ground truth\n",
        "y_test[0:5]"
      ],
      "execution_count": 11,
      "outputs": [
        {
          "output_type": "execute_result",
          "data": {
            "text/plain": [
              "array([0, 1, 1, 0, 1])"
            ]
          },
          "metadata": {},
          "execution_count": 11
        }
      ]
    },
    {
      "metadata": {
        "id": "PA4i7E-mGiLi"
      },
      "cell_type": "code",
      "source": [],
      "execution_count": null,
      "outputs": []
    }
  ]
}