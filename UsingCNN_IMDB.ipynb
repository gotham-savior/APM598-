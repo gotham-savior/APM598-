{
  "nbformat": 4,
  "nbformat_minor": 0,
  "metadata": {
    "colab": {
      "provenance": []
    },
    "kernelspec": {
      "name": "python3",
      "display_name": "Python 3"
    },
    "language_info": {
      "name": "python"
    }
  },
  "cells": [
    {
      "cell_type": "code",
      "execution_count": 2,
      "metadata": {
        "colab": {
          "base_uri": "https://localhost:8080/"
        },
        "id": "JYJTl30imvv0",
        "outputId": "d91cde8a-6e46-410a-8d3c-d77d2b87b9af"
      },
      "outputs": [
        {
          "output_type": "stream",
          "name": "stdout",
          "text": [
            "Downloading data from https://storage.googleapis.com/tensorflow/tf-keras-datasets/imdb.npz\n",
            "17464789/17464789 [==============================] - 0s 0us/step\n",
            "25000 train sequences\n",
            "25000 test sequences\n"
          ]
        }
      ],
      "source": [
        "from keras.datasets import imdb\n",
        "\n",
        "(X_train, y_train), (X_test, y_test) = imdb.load_data()\n",
        "\n",
        "print(len(X_train), 'train sequences')\n",
        "print(len(X_test), 'test sequences')"
      ]
    },
    {
      "cell_type": "code",
      "source": [
        "print(X_train[0])"
      ],
      "metadata": {
        "colab": {
          "base_uri": "https://localhost:8080/"
        },
        "id": "g63gu6s6m1Ed",
        "outputId": "1437ae52-0e03-4cde-8db1-ca792829a5fb"
      },
      "execution_count": 3,
      "outputs": [
        {
          "output_type": "stream",
          "name": "stdout",
          "text": [
            "[1, 14, 22, 16, 43, 530, 973, 1622, 1385, 65, 458, 4468, 66, 3941, 4, 173, 36, 256, 5, 25, 100, 43, 838, 112, 50, 670, 22665, 9, 35, 480, 284, 5, 150, 4, 172, 112, 167, 21631, 336, 385, 39, 4, 172, 4536, 1111, 17, 546, 38, 13, 447, 4, 192, 50, 16, 6, 147, 2025, 19, 14, 22, 4, 1920, 4613, 469, 4, 22, 71, 87, 12, 16, 43, 530, 38, 76, 15, 13, 1247, 4, 22, 17, 515, 17, 12, 16, 626, 18, 19193, 5, 62, 386, 12, 8, 316, 8, 106, 5, 4, 2223, 5244, 16, 480, 66, 3785, 33, 4, 130, 12, 16, 38, 619, 5, 25, 124, 51, 36, 135, 48, 25, 1415, 33, 6, 22, 12, 215, 28, 77, 52, 5, 14, 407, 16, 82, 10311, 8, 4, 107, 117, 5952, 15, 256, 4, 31050, 7, 3766, 5, 723, 36, 71, 43, 530, 476, 26, 400, 317, 46, 7, 4, 12118, 1029, 13, 104, 88, 4, 381, 15, 297, 98, 32, 2071, 56, 26, 141, 6, 194, 7486, 18, 4, 226, 22, 21, 134, 476, 26, 480, 5, 144, 30, 5535, 18, 51, 36, 28, 224, 92, 25, 104, 4, 226, 65, 16, 38, 1334, 88, 12, 16, 283, 5, 16, 4472, 113, 103, 32, 15, 16, 5345, 19, 178, 32]\n"
          ]
        }
      ]
    },
    {
      "cell_type": "code",
      "source": [
        "INDEX_FROM = 3\n",
        "word_index = imdb.get_word_index()\n",
        "word_index = {key:(value+INDEX_FROM) for key,value in word_index.items()}\n",
        "word_index[\"<PAD>\"] = 0    # the padding token\n",
        "word_index[\"<START>\"] = 1  # the starting token\n",
        "word_index[\"<UNK>\"] = 2    # the unknown token\n",
        "reverse_word_index = {value:key for key, value in word_index.items()}\n",
        "\n",
        "def decode_review(text):\n",
        "    return ' '.join([reverse_word_index.get(i, '?') for i in text])\n",
        "\n",
        "decode_review(X_train[0])"
      ],
      "metadata": {
        "colab": {
          "base_uri": "https://localhost:8080/",
          "height": 157
        },
        "id": "-U9Lshfem2_8",
        "outputId": "e5e3b54f-8cc1-42b2-9b37-8aad98147cdb"
      },
      "execution_count": 4,
      "outputs": [
        {
          "output_type": "stream",
          "name": "stdout",
          "text": [
            "Downloading data from https://storage.googleapis.com/tensorflow/tf-keras-datasets/imdb_word_index.json\n",
            "1641221/1641221 [==============================] - 0s 0us/step\n"
          ]
        },
        {
          "output_type": "execute_result",
          "data": {
            "text/plain": [
              "\"<START> this film was just brilliant casting location scenery story direction everyone's really suited the part they played and you could just imagine being there robert redford's is an amazing actor and now the same being director norman's father came from the same scottish island as myself so i loved the fact there was a real connection with this film the witty remarks throughout the film were great it was just brilliant so much that i bought the film as soon as it was released for retail and would recommend it to everyone to watch and the fly fishing was amazing really cried at the end it was so sad and you know what they say if you cry at a film it must have been good and this definitely was also congratulations to the two little boy's that played the part's of norman and paul they were just brilliant children are often left out of the praising list i think because the stars that play them all grown up are such a big profile for the whole film but these children are amazing and should be praised for what they have done don't you think the whole story was so lovely because it was true and was someone's life after all that was shared with us all\""
            ],
            "application/vnd.google.colaboratory.intrinsic+json": {
              "type": "string"
            }
          },
          "metadata": {},
          "execution_count": 4
        }
      ]
    },
    {
      "cell_type": "code",
      "source": [
        "vocab_size = 5000 \n",
        "(X_train, y_train), (X_test, y_test) = imdb.load_data(num_words= vocab_size)\n",
        "\n",
        "X_train, X_val = X_train[:-5000], X_train[-5000:]\n",
        "y_train, y_val = y_train[:-5000], y_train[-5000:]\n",
        "\n",
        "print(len(X_train), 'train sequences')\n",
        "print(len(X_val), 'val sequences')\n",
        "print(len(X_test), 'test sequences')"
      ],
      "metadata": {
        "colab": {
          "base_uri": "https://localhost:8080/"
        },
        "id": "07zjiiFHm6-L",
        "outputId": "5f7cee16-e75d-4f42-a9d4-397b841e6a54"
      },
      "execution_count": 5,
      "outputs": [
        {
          "output_type": "stream",
          "name": "stdout",
          "text": [
            "20000 train sequences\n",
            "5000 val sequences\n",
            "25000 test sequences\n"
          ]
        }
      ]
    },
    {
      "cell_type": "code",
      "source": [
        "decode_review(X_train[0])"
      ],
      "metadata": {
        "colab": {
          "base_uri": "https://localhost:8080/",
          "height": 122
        },
        "id": "dSifRtNxnLii",
        "outputId": "b76629b0-7630-4030-e529-122789a39d56"
      },
      "execution_count": 6,
      "outputs": [
        {
          "output_type": "execute_result",
          "data": {
            "text/plain": [
              "\"<START> this film was just brilliant casting location scenery story direction everyone's really suited the part they played and you could just imagine being there robert <UNK> is an amazing actor and now the same being director <UNK> father came from the same scottish island as myself so i loved the fact there was a real connection with this film the witty remarks throughout the film were great it was just brilliant so much that i bought the film as soon as it was released for <UNK> and would recommend it to everyone to watch and the fly <UNK> was amazing really cried at the end it was so sad and you know what they say if you cry at a film it must have been good and this definitely was also <UNK> to the two little <UNK> that played the <UNK> of norman and paul they were just brilliant children are often left out of the <UNK> list i think because the stars that play them all grown up are such a big <UNK> for the whole film but these children are amazing and should be <UNK> for what they have done don't you think the whole story was so lovely because it was true and was someone's life after all that was <UNK> with us all\""
            ],
            "application/vnd.google.colaboratory.intrinsic+json": {
              "type": "string"
            }
          },
          "metadata": {},
          "execution_count": 6
        }
      ]
    },
    {
      "cell_type": "code",
      "source": [
        "!pip install keras_preprocessing\n",
        "from keras_preprocessing.sequence import pad_sequences\n",
        "\n",
        "maximum_sequence_length = 500 # maximum length of all review sequences\n",
        "\n",
        "X_train = pad_sequences(X_train, value= word_index[\"<PAD>\"], padding= 'post', maxlen= maximum_sequence_length)\n",
        "X_val = pad_sequences(X_val, value= word_index[\"<PAD>\"], padding= 'post', maxlen= maximum_sequence_length)\n",
        "X_test = pad_sequences(X_test, value= word_index[\"<PAD>\"], padding= 'post', maxlen= maximum_sequence_length)\n",
        "\n",
        "print('X_train shape:', X_train.shape) # (n_samples, n_timesteps)\n",
        "print('X_val shape:', X_val.shape)\n",
        "print('X_test shape:', X_test.shape)"
      ],
      "metadata": {
        "colab": {
          "base_uri": "https://localhost:8080/"
        },
        "id": "z4hmVJeBnNzC",
        "outputId": "ed014b6f-5257-46bd-b356-03b9c9a271e4"
      },
      "execution_count": 10,
      "outputs": [
        {
          "output_type": "stream",
          "name": "stdout",
          "text": [
            "Looking in indexes: https://pypi.org/simple, https://us-python.pkg.dev/colab-wheels/public/simple/\n",
            "Collecting keras_preprocessing\n",
            "  Downloading Keras_Preprocessing-1.1.2-py2.py3-none-any.whl (42 kB)\n",
            "\u001b[2K     \u001b[90m━━━━━━━━━━━━━━━━━━━━━━━━━━━━━━━━━━━━━━━━\u001b[0m \u001b[32m42.6/42.6 kB\u001b[0m \u001b[31m1.6 MB/s\u001b[0m eta \u001b[36m0:00:00\u001b[0m\n",
            "\u001b[?25hRequirement already satisfied: six>=1.9.0 in /usr/local/lib/python3.9/dist-packages (from keras_preprocessing) (1.16.0)\n",
            "Requirement already satisfied: numpy>=1.9.1 in /usr/local/lib/python3.9/dist-packages (from keras_preprocessing) (1.22.4)\n",
            "Installing collected packages: keras_preprocessing\n",
            "Successfully installed keras_preprocessing-1.1.2\n",
            "X_train shape: (20000, 500)\n",
            "X_val shape: (5000, 500)\n",
            "X_test shape: (25000, 500)\n"
          ]
        }
      ]
    },
    {
      "cell_type": "code",
      "source": [
        "print(X_train[0])\n"
      ],
      "metadata": {
        "colab": {
          "base_uri": "https://localhost:8080/"
        },
        "id": "-LbfF89-nQVM",
        "outputId": "b28cbb0c-3e76-4308-cb88-51ce11d3de5f"
      },
      "execution_count": 12,
      "outputs": [
        {
          "output_type": "stream",
          "name": "stdout",
          "text": [
            "[   1   14   22   16   43  530  973 1622 1385   65  458 4468   66 3941\n",
            "    4  173   36  256    5   25  100   43  838  112   50  670    2    9\n",
            "   35  480  284    5  150    4  172  112  167    2  336  385   39    4\n",
            "  172 4536 1111   17  546   38   13  447    4  192   50   16    6  147\n",
            " 2025   19   14   22    4 1920 4613  469    4   22   71   87   12   16\n",
            "   43  530   38   76   15   13 1247    4   22   17  515   17   12   16\n",
            "  626   18    2    5   62  386   12    8  316    8  106    5    4 2223\n",
            "    2   16  480   66 3785   33    4  130   12   16   38  619    5   25\n",
            "  124   51   36  135   48   25 1415   33    6   22   12  215   28   77\n",
            "   52    5   14  407   16   82    2    8    4  107  117    2   15  256\n",
            "    4    2    7 3766    5  723   36   71   43  530  476   26  400  317\n",
            "   46    7    4    2 1029   13  104   88    4  381   15  297   98   32\n",
            " 2071   56   26  141    6  194    2   18    4  226   22   21  134  476\n",
            "   26  480    5  144   30    2   18   51   36   28  224   92   25  104\n",
            "    4  226   65   16   38 1334   88   12   16  283    5   16 4472  113\n",
            "  103   32   15   16    2   19  178   32    0    0    0    0    0    0\n",
            "    0    0    0    0    0    0    0    0    0    0    0    0    0    0\n",
            "    0    0    0    0    0    0    0    0    0    0    0    0    0    0\n",
            "    0    0    0    0    0    0    0    0    0    0    0    0    0    0\n",
            "    0    0    0    0    0    0    0    0    0    0    0    0    0    0\n",
            "    0    0    0    0    0    0    0    0    0    0    0    0    0    0\n",
            "    0    0    0    0    0    0    0    0    0    0    0    0    0    0\n",
            "    0    0    0    0    0    0    0    0    0    0    0    0    0    0\n",
            "    0    0    0    0    0    0    0    0    0    0    0    0    0    0\n",
            "    0    0    0    0    0    0    0    0    0    0    0    0    0    0\n",
            "    0    0    0    0    0    0    0    0    0    0    0    0    0    0\n",
            "    0    0    0    0    0    0    0    0    0    0    0    0    0    0\n",
            "    0    0    0    0    0    0    0    0    0    0    0    0    0    0\n",
            "    0    0    0    0    0    0    0    0    0    0    0    0    0    0\n",
            "    0    0    0    0    0    0    0    0    0    0    0    0    0    0\n",
            "    0    0    0    0    0    0    0    0    0    0    0    0    0    0\n",
            "    0    0    0    0    0    0    0    0    0    0    0    0    0    0\n",
            "    0    0    0    0    0    0    0    0    0    0    0    0    0    0\n",
            "    0    0    0    0    0    0    0    0    0    0    0    0    0    0\n",
            "    0    0    0    0    0    0    0    0    0    0    0    0    0    0\n",
            "    0    0    0    0    0    0    0    0    0    0]\n"
          ]
        }
      ]
    },
    {
      "cell_type": "code",
      "source": [
        "import numpy as np\n",
        "from keras.models import Sequential\n",
        "from keras.layers import Embedding, Dropout, Conv1D, GlobalMaxPooling1D, Dense\n",
        "from keras.wrappers.scikit_learn import KerasClassifier\n",
        "from sklearn.model_selection import ParameterGrid\n",
        "from keras.callbacks import EarlyStopping\n",
        "\n",
        "embedding_dim = 16\n",
        "\n",
        "def create_model(filters = 64, kernel_size = 3, strides=1, units = 256, \n",
        "                 optimizer='adam', rate = 0.25, kernel_initializer ='glorot_uniform'):\n",
        "    model = Sequential()\n",
        "    # Embedding layer\n",
        "    model.add(Embedding(vocab_size, embedding_dim, input_length= maximum_sequence_length))\n",
        "    # Convolutional Layer(s)\n",
        "    model.add(Dropout(rate))\n",
        "    model.add(Conv1D(filters = filters, kernel_size = kernel_size, strides= strides, \n",
        "                     padding='same', activation= 'relu'))\n",
        "    model.add(GlobalMaxPooling1D())\n",
        "    # Dense layer(s)\n",
        "    model.add(Dense(units = units, activation= 'relu', kernel_initializer= kernel_initializer))\n",
        "    model.add(Dropout(rate))\n",
        "    # Output layer\n",
        "    model.add(Dense(1, activation= 'sigmoid'))\n",
        "    \n",
        "    # Compile the model\n",
        "    model.compile(loss='binary_crossentropy',\n",
        "                  optimizer= optimizer,\n",
        "                  metrics=['accuracy'])\n",
        "    return model\n",
        "# Build the model\n",
        "model = KerasClassifier(build_fn= create_model)"
      ],
      "metadata": {
        "colab": {
          "base_uri": "https://localhost:8080/"
        },
        "id": "jkInTWVnnqkt",
        "outputId": "d4fbd283-cc57-45bc-e167-3dfc2fe90cc4"
      },
      "execution_count": 13,
      "outputs": [
        {
          "output_type": "stream",
          "name": "stderr",
          "text": [
            "<ipython-input-13-1dd42fc00bc5>:32: DeprecationWarning: KerasClassifier is deprecated, use Sci-Keras (https://github.com/adriangb/scikeras) instead. See https://www.adriangb.com/scikeras/stable/migration.html for help migrating.\n",
            "  model = KerasClassifier(build_fn= create_model)\n"
          ]
        }
      ]
    },
    {
      "cell_type": "code",
      "source": [
        "# Set the hyperparameters\n",
        "filters = [128] #[64, 128, 256]\n",
        "kernel_size = [5] #[3, 5, 7]\n",
        "strides= [1] # [1, 2, 5]\n",
        "Dense_units = [128, 512]\n",
        "kernel_initializer = ['TruncatedNormal'] #['zero', 'glorot_uniform', 'glorot_normal','TruncatedNormal']\n",
        "rate_dropouts = [0.25] #[0.1, 0.25, 0.5]\n",
        "optimizers = ['adam'] #['adam','rmsprop']\n",
        "epochs = [5]\n",
        "batches = [64] #[32, 64, 128]\n",
        "# ----------------------------------------------\n",
        "# Exhaustive Grid Search\n",
        "param_grid = dict(optimizer= optimizers, epochs= epochs, batch_size= batches,\n",
        "                  filters = filters, kernel_size = kernel_size, strides = strides, \n",
        "                  units = Dense_units, kernel_initializer= kernel_initializer, rate = rate_dropouts)\n",
        "\n",
        "grid = ParameterGrid(param_grid)\n",
        "param_sets = list(grid)\n",
        "\n",
        "param_scores = []\n",
        "for params in grid:\n",
        "\n",
        "    print(params)\n",
        "    model.set_params(**params)\n",
        "\n",
        "    earlystopper = EarlyStopping(monitor='val_accuracy', patience= 0, verbose=1)\n",
        "    \n",
        "    history = model.fit(X_train, y_train,\n",
        "                        shuffle= True,\n",
        "                        validation_data=(X_val, y_val),\n",
        "                        callbacks= [earlystopper])\n",
        "\n",
        "    param_score = history.history['val_accuracy']\n",
        "    param_scores.append(param_score[-1])\n",
        "    print('+-'*50) \n",
        "\n",
        "print('param_scores:', param_scores)\n",
        "\n",
        "# Choose best parameters\n",
        "p = np.argmax(np.array(param_scores))\n",
        "best_params = param_sets[p]\n",
        "print(\"best score:\", param_scores[p])\n",
        "print(\"best parameter set\", best_params)"
      ],
      "metadata": {
        "colab": {
          "base_uri": "https://localhost:8080/"
        },
        "id": "3kZ9V-fxntnI",
        "outputId": "07bff330-544b-497f-ff19-9484f96e2b5b"
      },
      "execution_count": 16,
      "outputs": [
        {
          "output_type": "stream",
          "name": "stdout",
          "text": [
            "{'batch_size': 64, 'epochs': 5, 'filters': 128, 'kernel_initializer': 'TruncatedNormal', 'kernel_size': 5, 'optimizer': 'adam', 'rate': 0.25, 'strides': 1, 'units': 128}\n",
            "Epoch 1/5\n",
            "313/313 [==============================] - 36s 113ms/step - loss: 0.5775 - accuracy: 0.6625 - val_loss: 0.3582 - val_accuracy: 0.8530\n",
            "Epoch 2/5\n",
            "313/313 [==============================] - 37s 119ms/step - loss: 0.3091 - accuracy: 0.8701 - val_loss: 0.3043 - val_accuracy: 0.8700\n",
            "Epoch 3/5\n",
            "313/313 [==============================] - 36s 115ms/step - loss: 0.2310 - accuracy: 0.9072 - val_loss: 0.2625 - val_accuracy: 0.8930\n",
            "Epoch 4/5\n",
            "313/313 [==============================] - 35s 110ms/step - loss: 0.1826 - accuracy: 0.9313 - val_loss: 0.2606 - val_accuracy: 0.8978\n",
            "Epoch 5/5\n",
            "313/313 [==============================] - 34s 108ms/step - loss: 0.1521 - accuracy: 0.9434 - val_loss: 0.2732 - val_accuracy: 0.8918\n",
            "Epoch 5: early stopping\n",
            "+-+-+-+-+-+-+-+-+-+-+-+-+-+-+-+-+-+-+-+-+-+-+-+-+-+-+-+-+-+-+-+-+-+-+-+-+-+-+-+-+-+-+-+-+-+-+-+-+-+-\n",
            "{'batch_size': 64, 'epochs': 5, 'filters': 128, 'kernel_initializer': 'TruncatedNormal', 'kernel_size': 5, 'optimizer': 'adam', 'rate': 0.25, 'strides': 1, 'units': 512}\n",
            "Epoch 1/5\n",
            "313/313 [==============================] - 38s 118ms/step - loss: 0.5403 - accuracy: 0.6908 - val_loss: 0.3578 - val_accuracy: 0.8454\n",
            "Epoch 2/5\n",
            "313/313 [==============================] - 35s 112ms/step - loss: 0.2966 - accuracy: 0.8766 - val_loss: 0.2731 - val_accuracy: 0.8904\n",
            "Epoch 3/5\n",
            "313/313 [==============================] - 34s 109ms/step - loss: 0.2263 - accuracy: 0.9103 - val_loss: 0.2697 - val_accuracy: 0.8912\n",
            "Epoch 4/5\n",
            "313/313 [==============================] - 35s 112ms/step - loss: 0.1833 - accuracy: 0.9295 - val_loss: 0.2804 - val_accuracy: 0.8950\n",
            "Epoch 5/5\n",
            "313/313 [==============================] - 36s 117ms/step - loss: 0.1528 - accuracy: 0.9417 - val_loss: 0.2939 - val_accuracy: 0.8920\n",
            "Epoch 5: early stopping\n",
            "+-+-+-+-+-+-+-+-+-+-+-+-+-+-+-+-+-+-+-+-+-+-+-+-+-+-+-+-+-+-+-+-+-+-+-+-+-+-+-+-+-+-+-+-+-+-+-+-+-+-\n",
            "param_scores: [0.8917999863624573, 0.8920000195503235]\n",
            "best score: 0.8920000195503235\n",
            "best parameter set {'batch_size': 64, 'epochs': 5, 'filters': 128, 'kernel_initializer': 'TruncatedNormal', 'kernel_size': 5, 'optimizer': 'adam', 'rate': 0.25, 'strides': 1, 'units': 512}\n"
          ]
        }
      ]
    },
    {
      "cell_type": "code",
      "source": [
        "model.set_params(**best_params)\n",
        "model.fit(np.vstack((X_train, X_val)), np.hstack((y_train, y_val)))"
      ],
      "metadata": {
        "colab": {
          "base_uri": "https://localhost:8080/"
        },
        "id": "Akym1Ug6nyqY",
        "outputId": "44424332-6162-4ba7-82ff-11df6faace79"
      },
      "execution_count": 17,
      "outputs": [
        {
          "output_type": "stream",
          "name": "stdout",
          "text": [
            "Epoch 1/5\n",
            "391/391 [==============================] - 43s 108ms/step - loss: 0.4816 - accuracy: 0.7424\n",
            "Epoch 2/5\n",
            "391/391 [==============================] - 41s 105ms/step - loss: 0.2734 - accuracy: 0.8888\n",
            "Epoch 3/5\n",
            "391/391 [==============================] - 41s 105ms/step - loss: 0.2147 - accuracy: 0.9161\n",
            "Epoch 4/5\n",
            "391/391 [==============================] - 41s 105ms/step - loss: 0.1825 - accuracy: 0.9292\n",
            "Epoch 5/5\n",
            "391/391 [==============================] - 44s 112ms/step - loss: 0.1529 - accuracy: 0.9420\n"
          ]
        },
        {
          "output_type": "execute_result",
          "data": {
            "text/plain": [
              "<keras.callbacks.History at 0x7fc3a71abfd0>"
            ]
          },
          "metadata": {},
          "execution_count": 17
        }
      ]
    },
    {
      "cell_type": "code",
      "source": [
        "from sklearn.metrics import accuracy_score\n",
        "print(\"Test accuracy = %f%%\" % (accuracy_score(y_test, model.predict(X_test))*100))"
      ],
      "metadata": {
        "colab": {
          "base_uri": "https://localhost:8080/"
        },
        "id": "dD5EfkIKrzO2",
        "outputId": "73307851-13ae-42c4-e545-b5456ae8dd17"
      },
      "execution_count": 20,
      "outputs": [
        {
          "output_type": "stream",
          "name": "stdout",
          "text": [
            "782/782 [==============================] - 13s 17ms/step\n",
            "Test accuracy = 89.528000%\n"
          ]
        }
      ]
    },
    {
      "cell_type": "code",
      "source": [],
      "metadata": {
        "id": "l0hDQj_3spsw"
      },
      "execution_count": null,
      "outputs": []
    }
  ]
}