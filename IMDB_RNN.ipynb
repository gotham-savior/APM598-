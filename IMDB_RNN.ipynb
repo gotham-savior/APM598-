{
  "metadata": {
    "kernelspec": {
      "language": "python",
      "display_name": "Python 3",
      "name": "python3"
    },
    "language_info": {
      "pygments_lexer": "ipython3",
      "nbconvert_exporter": "python",
      "version": "3.6.4",
      "file_extension": ".py",
      "codemirror_mode": {
        "name": "ipython",
        "version": 3
      },
      "name": "python",
      "mimetype": "text/x-python"
    },
    "colab": {
      "provenance": []
    }
  },
  "nbformat_minor": 0,
  "nbformat": 4,
  "cells": [
    {
      "cell_type": "code",
      "source": [
        "# This Python 3 environment comes with many helpful analytics libraries installed\n",
        "# It is defined by the kaggle/python Docker image: https://github.com/kaggle/docker-python\n",
        "# For example, here's several helpful packages to load\n",
        "!pip install keras_preprocessing\n",
        "import numpy as np # linear algebra\n",
        "import pandas as pd # data processing, CSV file I/O (e.g. pd.read_csv)\n",
        "import seaborn as sns\n",
        "import matplotlib.pyplot as plt\n",
        "%matplotlib inline\n",
        "\n",
        "from scipy import stats\n",
        "from keras.datasets import imdb\n",
        "from keras_preprocessing.sequence import pad_sequences \n",
        "from keras.models import Sequential\n",
        "from keras.layers import Embedding\n",
        "from keras.layers import SimpleRNN,Dense,Activation\n",
        "\n",
        "# Input data files are available in the read-only \"../input/\" directory\n",
        "# For example, running this (by clicking run or pressing Shift+Enter) will list all files under the input directory\n",
        "\n",
        "import os\n",
        "for dirname, _, filenames in os.walk('/kaggle/input'):\n",
        "    for filename in filenames:\n",
        "        print(os.path.join(dirname, filename))\n",
        "\n",
        "# You can write up to 5GB to the current directory (/kaggle/working/) that gets preserved as output when you create a version using \"Save & Run All\" \n",
        "# You can also write temporary files to /kaggle/temp/, but they won't be saved outside of the current session"
      ],
      "metadata": {
        "_uuid": "8f2839f25d086af736a60e9eeb907d3b93b6e0e5",
        "_cell_guid": "b1076dfc-b9ad-4769-8c92-a6c4dae69d19",
        "trusted": true,
        "colab": {
          "base_uri": "https://localhost:8080/"
        },
        "id": "ztW4nQkQ1X7a",
        "outputId": "dcdef582-29e5-4170-acdd-c9383f4d830a"
      },
      "execution_count": 6,
      "outputs": [
        {
          "output_type": "stream",
          "name": "stdout",
          "text": [
            "Looking in indexes: https://pypi.org/simple, https://us-python.pkg.dev/colab-wheels/public/simple/\n",
            "Requirement already satisfied: keras_preprocessing in /usr/local/lib/python3.10/dist-packages (1.1.2)\n",
            "Requirement already satisfied: six>=1.9.0 in /usr/local/lib/python3.10/dist-packages (from keras_preprocessing) (1.16.0)\n",
            "Requirement already satisfied: numpy>=1.9.1 in /usr/local/lib/python3.10/dist-packages (from keras_preprocessing) (1.22.4)\n"
          ]
        }
      ]
    },
    {
      "cell_type": "code",
      "source": [
        "(X_train,Y_train),(X_test,Y_test) = imdb.load_data('\\IMDB Dataset.csv')"
      ],
      "metadata": {
        "_uuid": "d629ff2d2480ee46fbb7e2d37f6b5fab8052498a",
        "_cell_guid": "79c7e3d0-c299-4dcb-8224-4455121ee9b0",
        "trusted": true,
        "colab": {
          "base_uri": "https://localhost:8080/"
        },
        "id": "_DFYBGvY1X7d",
        "outputId": "7149f938-72ad-4321-b022-021baa81be87"
      },
      "execution_count": 17,
      "outputs": [
        {
          "output_type": "stream",
          "name": "stdout",
          "text": [
            "Downloading data from https://storage.googleapis.com/tensorflow/tf-keras-datasets/imdb.npz\n",
            "17464789/17464789 [==============================] - 1s 0us/step\n"
          ]
        }
      ]
    },
    {
      "cell_type": "code",
      "source": [
        "print(\"Type: \", type(X_train))\n",
        "print(\"Type: \", type(Y_train))"
      ],
      "metadata": {
        "trusted": true,
        "colab": {
          "base_uri": "https://localhost:8080/"
        },
        "id": "4p-O0b9w1X7d",
        "outputId": "12eca11b-171e-4197-ff5b-cf79f5a4f69f"
      },
      "execution_count": 18,
      "outputs": [
        {
          "output_type": "stream",
          "name": "stdout",
          "text": [
            "Type:  <class 'numpy.ndarray'>\n",
            "Type:  <class 'numpy.ndarray'>\n"
          ]
        }
      ]
    },
    {
      "cell_type": "code",
      "source": [
        "print(\"X train shape: \",X_train.shape)\n",
        "print(\"Y train shape: \",Y_train.shape)"
      ],
      "metadata": {
        "trusted": true,
        "colab": {
          "base_uri": "https://localhost:8080/"
        },
        "id": "GLcZtlTH1X7e",
        "outputId": "12513316-85eb-471c-c8a7-238a34391bd0"
      },
      "execution_count": 19,
      "outputs": [
        {
          "output_type": "stream",
          "name": "stdout",
          "text": [
            "X train shape:  (25000,)\n",
            "Y train shape:  (25000,)\n"
          ]
        }
      ]
    },
    {
      "cell_type": "markdown",
      "source": [
        "## Exploratory Data Analysis(EDA)"
      ],
      "metadata": {
        "id": "qnOM3drn1X7e"
      }
    },
    {
      "cell_type": "code",
      "source": [
        "print(\"Y train values: \",np.unique(Y_train))\n",
        "print(\"Y test values: \",np.unique(Y_test))"
      ],
      "metadata": {
        "trusted": true,
        "colab": {
          "base_uri": "https://localhost:8080/"
        },
        "id": "5QktjyaI1X7j",
        "outputId": "9eb7c19d-7a8a-4fd0-dd4e-c2900d1468c4"
      },
      "execution_count": 20,
      "outputs": [
        {
          "output_type": "stream",
          "name": "stdout",
          "text": [
            "Y train values:  [0 1]\n",
            "Y test values:  [0 1]\n"
          ]
        }
      ]
    },
    {
      "cell_type": "code",
      "source": [
        "unique,counts = np.unique(Y_train,return_counts=True)\n",
        "print(\"Y train distribution: \", dict(zip(unique,counts)))"
      ],
      "metadata": {
        "trusted": true,
        "colab": {
          "base_uri": "https://localhost:8080/"
        },
        "id": "6LNTAtYL1X7j",
        "outputId": "b7a484cf-1b70-4b34-8f00-95ba828c3dd1"
      },
      "execution_count": 21,
      "outputs": [
        {
          "output_type": "stream",
          "name": "stdout",
          "text": [
            "Y train distribution:  {0: 12500, 1: 12500}\n"
          ]
        }
      ]
    },
    {
      "cell_type": "code",
      "source": [
        "unique,counts = np.unique(Y_test,return_counts=True)\n",
        "print(\"Y test distribution: \", dict(zip(unique,counts)))"
      ],
      "metadata": {
        "trusted": true,
        "colab": {
          "base_uri": "https://localhost:8080/"
        },
        "id": "JmDseDfr1X7j",
        "outputId": "929bc99f-038e-4600-9403-cb11795145ea"
      },
      "execution_count": 22,
      "outputs": [
        {
          "output_type": "stream",
          "name": "stdout",
          "text": [
            "Y test distribution:  {0: 12500, 1: 12500}\n"
          ]
        }
      ]
    },
    {
      "cell_type": "code",
      "source": [
        "plt.figure();\n",
        "sns.countplot(Y_train);\n",
        "plt.xlabel(\"Classes\");\n",
        "plt.ylabel(\"Frequency\");\n",
        "plt.title(\"Y Train\");"
      ],
      "metadata": {
        "trusted": true,
        "colab": {
          "base_uri": "https://localhost:8080/",
          "height": 472
        },
        "id": "sTAJtjZ61X7k",
        "outputId": "a33d24c6-1cff-4973-c105-b02e8db905c5"
      },
      "execution_count": 23,
      "outputs": [
        {
          "output_type": "display_data",
          "data": {
            "text/plain": [
              "<Figure size 640x480 with 1 Axes>"
            ],
            "image/png": "[encoded data removed]"
          },
          "metadata": {}
        }
      ]
    },
    {
      "cell_type": "code",
      "source": [
        "plt.figure();\n",
        "sns.countplot(Y_test);\n",
        "plt.xlabel(\"Classes\");\n",
        "plt.ylabel(\"Frequency\");\n",
        "plt.title(\"Y Test\");"
      ],
      "metadata": {
        "trusted": true,
        "colab": {
          "base_uri": "https://localhost:8080/",
          "height": 472
        },
        "id": "3LdWXAtQ1X7k",
        "outputId": "6d0f1fe9-7ff0-47d2-e14a-6417d50ae2b8"
      },
      "execution_count": 24,
      "outputs": [
        {
          "output_type": "display_data",
          "data": {
            "text/plain": [
              "<Figure size 640x480 with 1 Axes>"
            ],
            "image/png": "[encoded data removed]"
          },
          "metadata": {}
        }
      ]
    },
    {
      "cell_type": "code",
      "source": [
        "print(X_train[0])"
      ],
      "metadata": {
        "trusted": true,
        "colab": {
          "base_uri": "https://localhost:8080/"
        },
        "id": "GF8f2MbU1X7l",
        "outputId": "87c1db70-0e63-4259-e99c-a6bb36b16772"
      },
      "execution_count": 26,
      "outputs": [
        {
          "output_type": "stream",
          "name": "stdout",
          "text": [
            "[1, 14, 22, 16, 43, 530, 973, 1622, 1385, 65, 458, 4468, 66, 3941, 4, 173, 36, 256, 5, 25, 100, 43, 838, 112, 50, 670, 22665, 9, 35, 480, 284, 5, 150, 4, 172, 112, 167, 21631, 336, 385, 39, 4, 172, 4536, 1111, 17, 546, 38, 13, 447, 4, 192, 50, 16, 6, 147, 2025, 19, 14, 22, 4, 1920, 4613, 469, 4, 22, 71, 87, 12, 16, 43, 530, 38, 76, 15, 13, 1247, 4, 22, 17, 515, 17, 12, 16, 626, 18, 19193, 5, 62, 386, 12, 8, 316, 8, 106, 5, 4, 2223, 5244, 16, 480, 66, 3785, 33, 4, 130, 12, 16, 38, 619, 5, 25, 124, 51, 36, 135, 48, 25, 1415, 33, 6, 22, 12, 215, 28, 77, 52, 5, 14, 407, 16, 82, 10311, 8, 4, 107, 117, 5952, 15, 256, 4, 31050, 7, 3766, 5, 723, 36, 71, 43, 530, 476, 26, 400, 317, 46, 7, 4, 12118, 1029, 13, 104, 88, 4, 381, 15, 297, 98, 32, 2071, 56, 26, 141, 6, 194, 7486, 18, 4, 226, 22, 21, 134, 476, 26, 480, 5, 144, 30, 5535, 18, 51, 36, 28, 224, 92, 25, 104, 4, 226, 65, 16, 38, 1334, 88, 12, 16, 283, 5, 16, 4472, 113, 103, 32, 15, 16, 5345, 19, 178, 32]\n"
          ]
        }
      ]
    },
    {
      "cell_type": "code",
      "source": [
        "review_len_train = []\n",
        "review_len_test = []\n",
        "for i,j in zip(X_train,X_test):\n",
        "    review_len_train.append(len(i))\n",
        "    review_len_test.append(len(j))"
      ],
      "metadata": {
        "trusted": true,
        "id": "pPWXZ6HB1X7l"
      },
      "execution_count": 25,
      "outputs": []
    },
    {
      "cell_type": "code",
      "source": [
        "print(\"min: \", min(review_len_train), \"max: \", max(review_len_train))"
      ],
      "metadata": {
        "trusted": true,
        "colab": {
          "base_uri": "https://localhost:8080/"
        },
        "id": "s6CcDyKw1X7l",
        "outputId": "ff13c914-c335-424a-ad32-a75543e31ca3"
      },
      "execution_count": 27,
      "outputs": [
        {
          "output_type": "stream",
          "name": "stdout",
          "text": [
            "min:  11 max:  2494\n"
          ]
        }
      ]
    },
    {
      "cell_type": "code",
      "source": [
        "print(\"min: \", min(review_len_test), \"max: \", max(review_len_test))"
      ],
      "metadata": {
        "trusted": true,
        "colab": {
          "base_uri": "https://localhost:8080/"
        },
        "id": "BZf786PT1X7l",
        "outputId": "fb4e5929-6c91-40e0-cf81-058daf6aa008"
      },
      "execution_count": 28,
      "outputs": [
        {
          "output_type": "stream",
          "name": "stdout",
          "text": [
            "min:  7 max:  2315\n"
          ]
        }
      ]
    },
    {
      "cell_type": "code",
      "source": [
        "sns.distplot(review_len_train,hist_kws={\"alpha\":0.3});\n",
        "sns.distplot(review_len_test,hist_kws={\"alpha\":0.3});"
      ],
      "metadata": {
        "trusted": true,
        "colab": {
          "base_uri": "https://localhost:8080/",
          "height": 812
        },
        "id": "MJv4uFZn1X7m",
        "outputId": "e8332f1b-9d8c-4e3e-80d4-621b9ba61fe1"
      },
      "execution_count": 29,
      "outputs": [
        {
          "output_type": "stream",
          "name": "stderr",
          "text": [
            "<ipython-input-29-bad388684519>:1: UserWarning: \n",
            "\n",
            "`distplot` is a deprecated function and will be removed in seaborn v0.14.0.\n",
            "\n",
            "Please adapt your code to use either `displot` (a figure-level function with\n",
            "similar flexibility) or `histplot` (an axes-level function for histograms).\n",
            "\n",
            "For a guide to updating your code to use the new functions, please see\n",
            "https://gist.github.com/mwaskom/de44147ed2974457ad6372750bbe5751\n",
            "\n",
            "  sns.distplot(review_len_train,hist_kws={\"alpha\":0.3});\n",
            "<ipython-input-29-bad388684519>:2: UserWarning: \n",
            "\n",
            "`distplot` is a deprecated function and will be removed in seaborn v0.14.0.\n",
            "\n",
            "Please adapt your code to use either `displot` (a figure-level function with\n",
            "similar flexibility) or `histplot` (an axes-level function for histograms).\n",
            "\n",
            "For a guide to updating your code to use the new functions, please see\n",
            "https://gist.github.com/mwaskom/de44147ed2974457ad6372750bbe5751\n",
            "\n",
            "  sns.distplot(review_len_test,hist_kws={\"alpha\":0.3});\n"
          ]
        },
        {
          "output_type": "display_data",
          "data": {
            "text/plain": [
              "<Figure size 640x480 with 1 Axes>"
            ],
            "image/png": "[encoded data removed]"
          },
          "metadata": {}
        }
      ]
    },
    {
      "cell_type": "code",
      "source": [
        "print(\"Train mean: \",np.mean(review_len_train))\n",
        "print(\"Train median: \",np.median(review_len_train))\n",
        "print(\"Train mode: \",stats.mode(review_len_train))"
      ],
      "metadata": {
        "trusted": true,
        "colab": {
          "base_uri": "https://localhost:8080/"
        },
        "id": "C55g3pRb1X7m",
        "outputId": "2d40c2ab-65dd-4491-9e6a-ca5c23f19417"
      },
      "execution_count": 30,
      "outputs": [
        {
          "output_type": "stream",
          "name": "stdout",
          "text": [
            "Train mean:  238.71364\n",
            "Train median:  178.0\n",
            "Train mode:  ModeResult(mode=array([132]), count=array([196]))\n"
          ]
        },
        {
          "output_type": "stream",
          "name": "stderr",
          "text": [
            "<ipython-input-30-6fa6de0e88d2>:3: FutureWarning: Unlike other reduction functions (e.g. `skew`, `kurtosis`), the default behavior of `mode` typically preserves the axis it acts along. In SciPy 1.11.0, this behavior will change: the default value of `keepdims` will become False, the `axis` over which the statistic is taken will be eliminated, and the value None will no longer be accepted. Set `keepdims` to True or False to avoid this warning.\n",
            "  print(\"Train mode: \",stats.mode(review_len_train))\n"
          ]
        }
      ]
    },
    {
      "cell_type": "code",
      "source": [
        "# number or words\n",
        "word_index = imdb.get_word_index()\n",
        "print(type(word_index))"
      ],
      "metadata": {
        "trusted": true,
        "colab": {
          "base_uri": "https://localhost:8080/"
        },
        "id": "EFf34Ejm1X7m",
        "outputId": "82a927dc-5356-48f0-c770-aecde3d418bf"
      },
      "execution_count": 31,
      "outputs": [
        {
          "output_type": "stream",
          "name": "stdout",
          "text": [
            "Downloading data from https://storage.googleapis.com/tensorflow/tf-keras-datasets/imdb_word_index.json\n",
            "1641221/1641221 [==============================] - 0s 0us/step\n",
            "<class 'dict'>\n"
          ]
        }
      ]
    },
    {
      "cell_type": "code",
      "source": [
        "print(\"length of word_index: \",len(word_index))"
      ],
      "metadata": {
        "trusted": true,
        "colab": {
          "base_uri": "https://localhost:8080/"
        },
        "id": "MBdNKSvA1X7m",
        "outputId": "d0177d6f-073f-4aeb-d3b6-166bb96ba457"
      },
      "execution_count": 32,
      "outputs": [
        {
          "output_type": "stream",
          "name": "stdout",
          "text": [
            "length of word_index:  88584\n"
          ]
        }
      ]
    },
    {
      "cell_type": "code",
      "source": [
        "for keys,values in word_index.items():\n",
        "    if values == 1:\n",
        "        print(keys)"
      ],
      "metadata": {
        "trusted": true,
        "colab": {
          "base_uri": "https://localhost:8080/"
        },
        "id": "-1gum4xH1X7n",
        "outputId": "6f63f53b-319a-4ab6-c3f6-00adce14ee86"
      },
      "execution_count": 33,
      "outputs": [
        {
          "output_type": "stream",
          "name": "stdout",
          "text": [
            "the\n"
          ]
        }
      ]
    },
    {
      "cell_type": "code",
      "source": [
        "def whatItSay(index=24):\n",
        "    reverse_index = dict([(value,key) for (key,value) in word_index.items()])\n",
        "    decode_review = \" \".join([reverse_index.get(i-3, \"!\") for i in X_train[index]])\n",
        "    print(decode_review)\n",
        "    print(Y_train[index])\n",
        "    return decode_review\n",
        "\n",
        "decoded_review = whatItSay()"
      ],
      "metadata": {
        "trusted": true,
        "colab": {
          "base_uri": "https://localhost:8080/"
        },
        "id": "3t4ZJGOH1X7n",
        "outputId": "82c838d1-b8b2-4fcf-cd62-3a02a21f549f"
      },
      "execution_count": 34,
      "outputs": [
        {
          "output_type": "stream",
          "name": "stdout",
          "text": [
            "! the original demille movie was made in 1938 with frederic march a very good film indeed hollywood's love of remakes brings us a fairly interesting movie starring yul brynner he of course was brilliant as he almost always seemed to be in all of his movies charlton heston as andrew jackson was a stroke of genius however the movie did tend to get a little long in places it does not move at the pace of the 1938 version still it is a fun movie that should be seen at least once\n",
            "1\n"
          ]
        }
      ]
    },
    {
      "cell_type": "code",
      "source": [
        "decoded_review = whatItSay(5)"
      ],
      "metadata": {
        "trusted": true,
        "colab": {
          "base_uri": "https://localhost:8080/"
        },
        "id": "AsRpLCks1X7n",
        "outputId": "9ef03a8f-c96b-4586-c0e2-a33020cb2168"
      },
      "execution_count": 35,
      "outputs": [
        {
          "output_type": "stream",
          "name": "stdout",
          "text": [
            "! begins better than it ends funny that the russian submarine crew outperforms all other actors it's like those scenes where documentary shots br br spoiler part the message dechifered was contrary to the whole story it just does not mesh br br\n",
            "0\n"
          ]
        }
      ]
    },
    {
      "cell_type": "markdown",
      "source": [
        "## Preprocess"
      ],
      "metadata": {
        "id": "UbrrKsD61X7n"
      }
    },
    {
      "cell_type": "code",
      "source": [
        "num_words = 15000\n",
        "(X_train,Y_train),(X_test,Y_test) = imdb.load_data(num_words=num_words)"
      ],
      "metadata": {
        "trusted": true,
        "id": "Hgg6wWQs1X7n"
      },
      "execution_count": 36,
      "outputs": []
    },
    {
      "cell_type": "code",
      "source": [
        "maxlen=130\n",
        "X_train = pad_sequences(X_train, maxlen=maxlen)\n",
        "X_test = pad_sequences(X_test, maxlen=maxlen)"
      ],
      "metadata": {
        "trusted": true,
        "id": "JutLbKov1X7o"
      },
      "execution_count": 37,
      "outputs": []
    },
    {
      "cell_type": "code",
      "source": [
        "print(\"X train shape: \",X_train.shape)"
      ],
      "metadata": {
        "trusted": true,
        "colab": {
          "base_uri": "https://localhost:8080/"
        },
        "id": "mQuZkoOD1X7o",
        "outputId": "194672be-1695-4217-ad41-6da398e1ef07"
      },
      "execution_count": 38,
      "outputs": [
        {
          "output_type": "stream",
          "name": "stdout",
          "text": [
            "X train shape:  (25000, 130)\n"
          ]
        }
      ]
    },
    {
      "cell_type": "code",
      "source": [
        "print(X_train[5])"
      ],
      "metadata": {
        "trusted": true,
        "colab": {
          "base_uri": "https://localhost:8080/"
        },
        "id": "SCtJJbsF1X7o",
        "outputId": "1520566a-29c2-4212-ef07-a48ecd98a90b"
      },
      "execution_count": 39,
      "outputs": [
        {
          "output_type": "stream",
          "name": "stdout",
          "text": [
            "[   0    0    0    0    0    0    0    0    0    0    0    0    0    0\n",
            "    0    0    0    0    0    0    0    0    0    0    0    0    0    0\n",
            "    0    0    0    0    0    0    0    0    0    0    0    0    0    0\n",
            "    0    0    0    0    0    0    0    0    0    0    0    0    0    0\n",
            "    0    0    0    0    0    0    0    0    0    0    0    0    0    0\n",
            "    0    0    0    0    0    0    0    0    0    0    0    0    0    0\n",
            "    0    0    0    1  778  128   74   12  630  163   15    4 1766 7982\n",
            " 1051    2   32   85  156   45   40  148  139  121  664  665   10   10\n",
            " 1361  173    4  749    2   16 3804    8    4  226   65   12   43  127\n",
            "   24    2   10   10]\n"
          ]
        }
      ]
    },
    {
      "cell_type": "code",
      "source": [
        "for i in X_train[0:10]:\n",
        "    print(len(i))"
      ],
      "metadata": {
        "trusted": true,
        "colab": {
          "base_uri": "https://localhost:8080/"
        },
        "id": "ecPIh95q1X7o",
        "outputId": "1377da6c-bed0-42dd-c37f-256bd31d96d7"
      },
      "execution_count": 40,
      "outputs": [
        {
          "output_type": "stream",
          "name": "stdout",
          "text": [
            "130\n",
            "130\n",
            "130\n",
            "130\n",
            "130\n",
            "130\n",
            "130\n",
            "130\n",
            "130\n",
            "130\n"
          ]
        }
      ]
    },
    {
      "cell_type": "code",
      "source": [
        "decoded_review = whatItSay(5)"
      ],
      "metadata": {
        "trusted": true,
        "colab": {
          "base_uri": "https://localhost:8080/"
        },
        "id": "9qIrtFZv1X7o",
        "outputId": "82beeb01-d819-4535-b2a9-a2aa08705bb0"
      },
      "execution_count": 41,
      "outputs": [
        {
          "output_type": "stream",
          "name": "stdout",
          "text": [
            "! ! ! ! ! ! ! ! ! ! ! ! ! ! ! ! ! ! ! ! ! ! ! ! ! ! ! ! ! ! ! ! ! ! ! ! ! ! ! ! ! ! ! ! ! ! ! ! ! ! ! ! ! ! ! ! ! ! ! ! ! ! ! ! ! ! ! ! ! ! ! ! ! ! ! ! ! ! ! ! ! ! ! ! ! ! ! ! begins better than it ends funny that the russian submarine crew ! all other actors it's like those scenes where documentary shots br br spoiler part the message ! was contrary to the whole story it just does not ! br br\n",
            "0\n"
          ]
        }
      ]
    },
    {
      "cell_type": "markdown",
      "source": [
        "## Construct RNN Model"
      ],
      "metadata": {
        "id": "l6RBEvT81X7p"
      }
    },
    {
      "cell_type": "code",
      "source": [
        "rnn = Sequential()\n",
        "\n",
        "rnn.add(Embedding(num_words,32,input_length =len(X_train[0]))) # num_words=15000\n",
        "rnn.add(SimpleRNN(16,input_shape = (num_words,maxlen), return_sequences=False,activation=\"relu\"))\n",
        "rnn.add(Dense(1)) #flatten\n",
        "rnn.add(Activation(\"sigmoid\")) #using sigmoid for binary classification\n",
        "\n",
        "print(rnn.summary())\n",
        "rnn.compile(loss=\"binary_crossentropy\",optimizer=\"rmsprop\",metrics=[\"accuracy\"])\n"
      ],
      "metadata": {
        "trusted": true,
        "colab": {
          "base_uri": "https://localhost:8080/"
        },
        "id": "v34sTZGM1X7p",
        "outputId": "15967b1b-911b-4d49-aba0-990197f2cbaa"
      },
      "execution_count": 42,
      "outputs": [
        {
          "output_type": "stream",
          "name": "stdout",
          "text": [
            "Model: \"sequential\"\n",
            "_________________________________________________________________\n",
            " Layer (type)                Output Shape              Param #   \n",
            "=================================================================\n",
            " embedding (Embedding)       (None, 130, 32)           480000    \n",
            "                                                                 \n",
            " simple_rnn (SimpleRNN)      (None, 16)                784       \n",
            "                                                                 \n",
            " dense (Dense)               (None, 1)                 17        \n",
            "                                                                 \n",
            " activation (Activation)     (None, 1)                 0         \n",
            "                                                                 \n",
            "=================================================================\n",
            "Total params: 480,801\n",
            "Trainable params: 480,801\n",
            "Non-trainable params: 0\n",
            "_________________________________________________________________\n",
            "None\n"
          ]
        }
      ]
    },
    {
      "cell_type": "code",
      "source": [
        "history = rnn.fit(X_train,Y_train,validation_data = (X_test,Y_test),epochs = 5,batch_size=128,verbose = 1)"
      ],
      "metadata": {
        "trusted": true,
        "colab": {
          "base_uri": "https://localhost:8080/"
        },
        "id": "KZ6lgKw01X7p",
        "outputId": "90dd798b-a92f-4366-df6d-a362ccc330ea"
      },
      "execution_count": 43,
      "outputs": [
        {
          "output_type": "stream",
          "name": "stdout",
          "text": [
            "Epoch 1/5\n",
            "196/196 [==============================] - 14s 65ms/step - loss: 0.6303 - accuracy: 0.6474 - val_loss: 0.6092 - val_accuracy: 0.6882\n",
            "Epoch 2/5\n",
            "196/196 [==============================] - 12s 64ms/step - loss: 0.4569 - accuracy: 0.8141 - val_loss: 0.3955 - val_accuracy: 0.8297\n",
            "Epoch 3/5\n",
            "196/196 [==============================] - 13s 67ms/step - loss: 0.3465 - accuracy: 0.8544 - val_loss: 0.3389 - val_accuracy: 0.8540\n",
            "Epoch 4/5\n",
            "196/196 [==============================] - 13s 68ms/step - loss: 0.2782 - accuracy: 0.8871 - val_loss: 0.3281 - val_accuracy: 0.8602\n",
            "Epoch 5/5\n",
            "196/196 [==============================] - 11s 56ms/step - loss: 0.2392 - accuracy: 0.9052 - val_loss: 0.3390 - val_accuracy: 0.8528\n"
          ]
        }
      ]
    },
    {
      "cell_type": "code",
      "source": [
        "score = rnn.evaluate(X_test,Y_test)"
      ],
      "metadata": {
        "trusted": true,
        "colab": {
          "base_uri": "https://localhost:8080/"
        },
        "id": "hSRFOmnd1X7p",
        "outputId": "8b7cb205-f8a8-4675-bf0b-6de405dcaa59"
      },
      "execution_count": 44,
      "outputs": [
        {
          "output_type": "stream",
          "name": "stdout",
          "text": [
            "782/782 [==============================] - 6s 8ms/step - loss: 0.3390 - accuracy: 0.8528\n"
          ]
        }
      ]
    },
    {
      "cell_type": "code",
      "source": [
        "print(\"accuracy:\", score[1]*100)"
      ],
      "metadata": {
        "trusted": true,
        "colab": {
          "base_uri": "https://localhost:8080/"
        },
        "id": "39ycm7gT1X7p",
        "outputId": "cfb33c5e-20ea-420f-b61b-2d8612209236"
      },
      "execution_count": 45,
      "outputs": [
        {
          "output_type": "stream",
          "name": "stdout",
          "text": [
            "accuracy: 85.2840006351471\n"
          ]
        }
      ]
    },
    {
      "cell_type": "code",
      "source": [
        "plt.figure()\n",
        "plt.plot(history.history[\"accuracy\"],label=\"Train\");\n",
        "plt.plot(history.history[\"val_accuracy\"],label=\"Test\");\n",
        "plt.title(\"Accuracy\")\n",
        "plt.ylabel(\"Accuracy\")\n",
        "plt.xlabel(\"Epochs\")\n",
        "plt.legend()\n",
        "plt.show();"
      ],
      "metadata": {
        "trusted": true,
        "colab": {
          "base_uri": "https://localhost:8080/",
          "height": 472
        },
        "id": "cWUfFeF61X7q",
        "outputId": "62df9fac-5cc3-4e7c-9c7f-caeb39d8a998"
      },
      "execution_count": 46,
      "outputs": [
        {
          "output_type": "display_data",
          "data": {
            "text/plain": [
              "<Figure size 640x480 with 1 Axes>"
            ],
            "image/png": "[encoded data removed]"
          },
          "metadata": {}
        }
      ]
    },
    {
      "cell_type": "code",
      "source": [
        "plt.figure()\n",
        "plt.plot(history.history[\"loss\"],label=\"Train\");\n",
        "plt.plot(history.history[\"val_loss\"],label=\"Test\");\n",
        "plt.title(\"Loss\")\n",
        "plt.ylabel(\"Loss\")\n",
        "plt.xlabel(\"Epochs\")\n",
        "plt.legend()\n",
        "plt.show();"
      ],
      "metadata": {
        "trusted": true,
        "colab": {
          "base_uri": "https://localhost:8080/",
          "height": 472
        },
        "id": "syUEAXUJ1X7q",
        "outputId": "5417caf3-d5cf-4291-bfa9-01c452c9a1dc"
      },
      "execution_count": 47,
      "outputs": [
        {
          "output_type": "display_data",
          "data": {
            "text/plain": [
              "<Figure size 640x480 with 1 Axes>"
            ],
            "image/png": "[encoded data removed]"
          },
          "metadata": {}
        }
      ]
    },
    {
      "cell_type": "code",
      "source": [],
      "metadata": {
        "trusted": true,
        "id": "BM9DfpwJ1X7q"
      },
      "execution_count": null,
      "outputs": []
    }
  ]
}